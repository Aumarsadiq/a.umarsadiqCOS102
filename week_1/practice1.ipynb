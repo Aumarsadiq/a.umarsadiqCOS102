{
 "cells": [
  {
   "cell_type": "code",
   "execution_count": 1,
   "id": "aa250d60-b5b7-4f10-a6cc-78c1b61acb49",
   "metadata": {},
   "outputs": [
    {
     "name": "stdout",
     "output_type": "stream",
     "text": [
      "100\n",
      "Data Type of variale num is <class 'int'>\n"
     ]
    }
   ],
   "source": [
    "# Integer number\n",
    "num = 100\n",
    "print (num)\n",
    "print(\"Data Type of variale num is\", type(num))"
   ]
  },
  {
   "cell_type": "code",
   "execution_count": 2,
   "id": "9ac16a09-90a7-46b3-a12c-fa0d09c8e2d2",
   "metadata": {},
   "outputs": [
    {
     "name": "stdout",
     "output_type": "stream",
     "text": [
      "100\n",
      "Data type of variable fnum is <class 'float'>\n"
     ]
    }
   ],
   "source": [
    "# float number\n",
    "fnum = 34.54\n",
    "print (num)\n",
    "print (\"Data type of variable fnum is\", type (fnum))"
   ]
  },
  {
   "cell_type": "code",
   "execution_count": 3,
   "id": "139424fc-15ad-456b-b720-164f79ee87e0",
   "metadata": {},
   "outputs": [
    {
     "name": "stdout",
     "output_type": "stream",
     "text": [
      "(3+4j)\n",
      "Data Type of variable cnum is <class 'complex'>\n"
     ]
    }
   ],
   "source": [
    "# complex number\n",
    "cnum = 3 + 4j\n",
    "print (cnum)\n",
    "print (\"Data Type of variable cnum is\", type (cnum))"
   ]
  },
  {
   "cell_type": "code",
   "execution_count": null,
   "id": "8054c13a-b09e-4573-abaf-019d062edd00",
   "metadata": {},
   "outputs": [],
   "source": []
  }
 ],
 "metadata": {
  "kernelspec": {
   "display_name": "Python 3 (ipykernel)",
   "language": "python",
   "name": "python3"
  },
  "language_info": {
   "codemirror_mode": {
    "name": "ipython",
    "version": 3
   },
   "file_extension": ".py",
   "mimetype": "text/x-python",
   "name": "python",
   "nbconvert_exporter": "python",
   "pygments_lexer": "ipython3",
   "version": "3.11.7"
  }
 },
 "nbformat": 4,
 "nbformat_minor": 5
}
