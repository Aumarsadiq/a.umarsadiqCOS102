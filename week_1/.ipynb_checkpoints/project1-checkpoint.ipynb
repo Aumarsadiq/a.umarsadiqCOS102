{
 "cells": [
  {
   "cell_type": "code",
   "execution_count": 1,
   "id": "5e845703-cb32-40a3-9821-39e97effe49e",
   "metadata": {},
   "outputs": [
    {
     "ename": "SyntaxError",
     "evalue": "invalid syntax (3043372294.py, line 28)",
     "output_type": "error",
     "traceback": [
      "\u001b[1;36m  Cell \u001b[1;32mIn[1], line 28\u001b[1;36m\u001b[0m\n\u001b[1;33m    result = simple_intrest(p, r, t)\u001b[0m\n\u001b[1;37m    ^\u001b[0m\n\u001b[1;31mSyntaxError\u001b[0m\u001b[1;31m:\u001b[0m invalid syntax\n"
     ]
    }
   ],
   "source": [
    "def simple_interest(principal, rate, time):\n",
    "    interest = (principal * rate * time) / 100\n",
    "    total_amount = principal + interest\n",
    "    return total_amount\n",
    "\n",
    "def compound_interest(principal, rate, periods, time):\n",
    "    amount = principal * (1 + (rate / periods)) ** (periods * time)\n",
    "    return amount\n",
    "\n",
    "def annuity_plan(payment, rate, time, periods):\n",
    "    amount = payment * (((1 + (rate / periods)) ** (periods * time)) -1) /(rate/ periods)\n",
    "    return amount\n",
    "\n",
    "def main():\n",
    "    while True:\n",
    "        print(\"Choose a financial plan to calculate:\")\n",
    "        print(\"1. Simple Interest\")\n",
    "        print(\"2. Compund Interest\")\n",
    "        print(\"3. Annuity plan\")\n",
    "        print(\"4. Exit\")\n",
    "\n",
    "        choice = int(input(\"Enter your choice(1/2/3/4): \"))\n",
    "\n",
    "        if choice == 1:\n",
    "            p = float(input(\"Enter principal amount: \"))\n",
    "            r = float(input(\"Enter interest rate (as a decimal): \"))\n",
    "            t = float(input(\"Enter time period (in years): \"))\\\n",
    "            result = simple_intrest(p, r, t)\n",
    "            print(\"Total amount (including simple interest):\", result)\n",
    "\n",
    "        elif choice == 2:\n",
    "            p = float(input(\"Enter principal amount: \"))\n",
    "            r = float(input(\"Enter interest rate (as a decimal): \"))\n",
    "            t = float(input(\"Enter time period (in years): \"))\n",
    "            n = float(input(\"Enter the number of periods (n): \"))\n",
    "            result = compound_interest(p, r, n, t)\n",
    "            print(\"Total amount (including compound interest):\", result)\n",
    "\n",
    "        elif choice == 3:\n",
    "            PMT = float(input(\"Enter periodic payment (PMT): \"))\n",
    "            r = float(input(\"Enter interest rate (as a decimal): \"))\n",
    "            t = float(input(\"Enter number of periods (n): \"))\n",
    "            result = annuity_plan(PMT, r, s, t, n)\n",
    "            print(\"Annuity amount:\", result)\n",
    "            \n",
    "        elif choice == 4:\n",
    "            print(\"Existing the program. Bye!\")\n",
    "            break\n",
    "\n",
    "        else:\n",
    "            print(\"Invalid choice. Please enter 1, 2, 3, or 4.\")\n",
    "\n",
    "if __name__ == \"__main__\":\n",
    "    main()\n",
    "            "
   ]
  }
 ],
 "metadata": {
  "kernelspec": {
   "display_name": "Python 3 (ipykernel)",
   "language": "python",
   "name": "python3"
  },
  "language_info": {
   "codemirror_mode": {
    "name": "ipython",
    "version": 3
   },
   "file_extension": ".py",
   "mimetype": "text/x-python",
   "name": "python",
   "nbconvert_exporter": "python",
   "pygments_lexer": "ipython3",
   "version": "3.11.7"
  }
 },
 "nbformat": 4,
 "nbformat_minor": 5
}
